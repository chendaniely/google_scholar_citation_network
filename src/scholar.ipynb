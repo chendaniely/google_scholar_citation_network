{
 "cells": [
  {
   "cell_type": "code",
   "execution_count": null,
   "metadata": {
    "collapsed": false
   },
   "outputs": [],
   "source": [
    "import re\n",
    "from random import randint, random\n",
    "from time import sleep\n",
    "import warnings\n",
    "\n",
    "import networkx as nx\n",
    "from bs4 import BeautifulSoup\n",
    "import requests\n",
    "\n",
    "import scholar"
   ]
  },
  {
   "cell_type": "code",
   "execution_count": null,
   "metadata": {
    "collapsed": true
   },
   "outputs": [],
   "source": [
    "class CitationResults(object):\n",
    "    def __init__(self, **kwargs):\n",
    "        self.soup = kwargs.get('soup')\n",
    "        self.num_search_pages = None\n",
    "    def set_num_search_results(self):\n",
    "        str_num_results = self.soup.find_all('div', id='gs_ab_md')[0].get_text().split()[1]\n",
    "        self.num_results = int(str_num_results.replace(',', ''))\n",
    "        return(self)\n",
    "    def set_num_search_pages(self):\n",
    "        # floor division\n",
    "        self.num_search_pages = self.num_results // 10\n",
    "        return(self)\n",
    "    def parse_current_page(self):\n",
    "        gs_r = soup.find_all(\"div\", class_=\"gs_r\")"
   ]
  },
  {
   "cell_type": "markdown",
   "metadata": {},
   "source": [
    "            'title':         [None, 'Title',          0],\n",
    "            'url':           [None, 'URL',            1],\n",
    "            'year':          [None, 'Year',           2],\n",
    "            'num_citations': [0,    'Citations',      3],\n",
    "            'num_versions':  [0,    'Versions',       4],\n",
    "            'cluster_id':    [None, 'Cluster ID',     5],\n",
    "            'url_pdf':       [None, 'PDF link',       6],\n",
    "            'url_citations': [None, 'Citations list', 7],\n",
    "            'url_versions':  [None, 'Versions list',  8],\n",
    "            'url_citation':  [None, 'Citation link',  9],\n",
    "            'excerpt':       [None, 'Excerpt',       10],"
   ]
  },
  {
   "cell_type": "code",
   "execution_count": null,
   "metadata": {
    "collapsed": true
   },
   "outputs": [],
   "source": [
    "class DanGoogleScholarArticle(object):\n",
    "    def __init__(self, **kwargs):\n",
    "        self.soup = kwargs.get('soup')\n",
    "        self._title = None\n",
    "        self._url = None\n",
    "        self.year = None\n",
    "        self.num_citations = None\n",
    "        self.num_vertions = None\n",
    "        self.cluster_id = None\n",
    "        self.url_pdf = None\n",
    "        self.url_citations = None\n",
    "        self.url_versions = None\n",
    "        self.url_citation = None\n",
    "        self.excerpt = None\n",
    "\n",
    "    def parse_all(self):\n",
    "        self.parse_title()\n",
    "        return(self)\n",
    "    \n",
    "    def parse_title(self):\n",
    "        soup_title = self.soup.find('h3', class_='gs_rt')\n",
    "        title = soup_title.find('a').get_text()\n",
    "        self.title = title\n",
    "        return(self)\n",
    "    \n",
    "    def parse_cluster_id(self, cluster_str_index=0, cluster_id_str_index=0):\n",
    "        #print('*' * 80)\n",
    "        #print('Below is self.soup')\n",
    "        #print(self.soup)\n",
    "\n",
    "        #print('*' * 80)\n",
    "        #print('Below is the soup cluster id')\n",
    "        soup_cluster_id = self.soup.find_all('div', class_='gs_fl')[-1]\n",
    "        #print(soup_cluster_id)\n",
    "\n",
    "        #print('*' * 80)\n",
    "        #print('Below is the cluster id link')\n",
    "        cluster_id_link = soup_cluster_id.find('a', class_='gs_nph').get('href')\n",
    "        #print(cluster_id_link)\n",
    "\n",
    "        pattern_cluster = re.compile('cluster=\\d+')\n",
    "        cluster_str = pattern_cluster.findall(cluster_id_link)[cluster_str_index]\n",
    "\n",
    "        pattern_cluster_id = re.compile('\\d+')\n",
    "        cluster_id_str = pattern_cluster_id.findall(cluster_str)[cluster_id_str_index]\n",
    "        self.cluster_id = int(cluster_id_str)\n",
    "        return(self)\n",
    "\n",
    "    @property\n",
    "    def title(self):\n",
    "        return self._title\n",
    "    @title.setter\n",
    "    def title(self, value):\n",
    "        self._title = value\n",
    "    \n",
    "    @property\n",
    "    def url(self):\n",
    "        return self._url\n",
    "    @url.setter\n",
    "    def url(self, value):\n",
    "        self._url = value"
   ]
  },
  {
   "cell_type": "code",
   "execution_count": null,
   "metadata": {
    "collapsed": true
   },
   "outputs": [],
   "source": [
    "scholar_article = scholar.ScholarArticle()\n",
    "scholar_article_parser = scholar.ScholarArticleParser()"
   ]
  },
  {
   "cell_type": "code",
   "execution_count": null,
   "metadata": {
    "collapsed": true
   },
   "outputs": [],
   "source": [
    "querier = scholar.ScholarQuerier()\n",
    "settings = scholar.ScholarSettings()\n",
    "query = scholar.SearchScholarQuery()"
   ]
  },
  {
   "cell_type": "code",
   "execution_count": null,
   "metadata": {
    "collapsed": false
   },
   "outputs": [],
   "source": [
    "query.set_author('eagly')"
   ]
  },
  {
   "cell_type": "code",
   "execution_count": null,
   "metadata": {
    "collapsed": true
   },
   "outputs": [],
   "source": [
    "query.set_words('psychology of attitudes')"
   ]
  },
  {
   "cell_type": "code",
   "execution_count": null,
   "metadata": {
    "collapsed": false
   },
   "outputs": [],
   "source": [
    "query"
   ]
  },
  {
   "cell_type": "code",
   "execution_count": null,
   "metadata": {
    "collapsed": false
   },
   "outputs": [],
   "source": [
    "querier.send_query(query)"
   ]
  },
  {
   "cell_type": "code",
   "execution_count": null,
   "metadata": {
    "collapsed": false
   },
   "outputs": [],
   "source": [
    "querier.articles"
   ]
  },
  {
   "cell_type": "code",
   "execution_count": null,
   "metadata": {
    "collapsed": false
   },
   "outputs": [],
   "source": [
    "querier.articles[0].as_txt()"
   ]
  },
  {
   "cell_type": "code",
   "execution_count": null,
   "metadata": {
    "collapsed": false
   },
   "outputs": [],
   "source": [
    "querier.articles[0].attrs"
   ]
  },
  {
   "cell_type": "code",
   "execution_count": null,
   "metadata": {
    "collapsed": false
   },
   "outputs": [],
   "source": [
    "SEED_ARTICLE = querier.articles[0]\n",
    "assert(SEED_ARTICLE.attrs.get('title')[0] == 'The psychology of attitudes.')"
   ]
  },
  {
   "cell_type": "code",
   "execution_count": null,
   "metadata": {
    "collapsed": false
   },
   "outputs": [],
   "source": [
    "type(SEED_ARTICLE)"
   ]
  },
  {
   "cell_type": "code",
   "execution_count": null,
   "metadata": {
    "collapsed": false
   },
   "outputs": [],
   "source": [
    "SEED_ARTICLE.attrs['cluster_id'][0]"
   ]
  },
  {
   "cell_type": "code",
   "execution_count": null,
   "metadata": {
    "collapsed": true
   },
   "outputs": [],
   "source": [
    "citations_url = SEED_ARTICLE.attrs.get('url_citations')[0]"
   ]
  },
  {
   "cell_type": "code",
   "execution_count": null,
   "metadata": {
    "collapsed": false
   },
   "outputs": [],
   "source": [
    "citations_url"
   ]
  },
  {
   "cell_type": "code",
   "execution_count": null,
   "metadata": {
    "collapsed": false
   },
   "outputs": [],
   "source": [
    "citations_url_generic = 'https://scholar.google.com/scholar?start={}&hl=en&as_sdt=2005&sciodt=0,5&cites=5556531000720111691&scipsc='\n",
    "citations_url_generic"
   ]
  },
  {
   "cell_type": "code",
   "execution_count": null,
   "metadata": {
    "collapsed": false
   },
   "outputs": [],
   "source": [
    "citations_url_generic.format('0')"
   ]
  },
  {
   "cell_type": "code",
   "execution_count": null,
   "metadata": {
    "collapsed": false
   },
   "outputs": [],
   "source": [
    "r = requests.get(citations_url_generic.format('0'))"
   ]
  },
  {
   "cell_type": "code",
   "execution_count": null,
   "metadata": {
    "collapsed": false
   },
   "outputs": [],
   "source": [
    "soup = BeautifulSoup(r.text)"
   ]
  },
  {
   "cell_type": "code",
   "execution_count": null,
   "metadata": {
    "collapsed": false
   },
   "outputs": [],
   "source": [
    "citation_results = CitationResults(soup=soup)\n",
    "citation_results.set_num_search_results().set_num_search_pages()\n",
    "citation_results.num_results"
   ]
  },
  {
   "cell_type": "code",
   "execution_count": null,
   "metadata": {
    "collapsed": false
   },
   "outputs": [],
   "source": [
    "num_search_pages = citation_results.num_search_pages\n",
    "num_search_pages"
   ]
  },
  {
   "cell_type": "code",
   "execution_count": null,
   "metadata": {
    "collapsed": false
   },
   "outputs": [],
   "source": [
    "gs_r = soup.find_all(\"div\", class_=\"gs_r\")"
   ]
  },
  {
   "cell_type": "code",
   "execution_count": null,
   "metadata": {
    "collapsed": false
   },
   "outputs": [],
   "source": [
    "len(gs_r)"
   ]
  },
  {
   "cell_type": "code",
   "execution_count": null,
   "metadata": {
    "collapsed": false
   },
   "outputs": [],
   "source": [
    "citing_article_soup = gs_r[2]"
   ]
  },
  {
   "cell_type": "code",
   "execution_count": null,
   "metadata": {
    "collapsed": true
   },
   "outputs": [],
   "source": [
    "result_article = DanGoogleScholarArticle(soup=citing_article_soup)"
   ]
  },
  {
   "cell_type": "code",
   "execution_count": null,
   "metadata": {
    "collapsed": false
   },
   "outputs": [],
   "source": [
    "result_article.parse_title()\n",
    "result_article.title"
   ]
  },
  {
   "cell_type": "code",
   "execution_count": null,
   "metadata": {
    "collapsed": false
   },
   "outputs": [],
   "source": [
    "result_article.parse_cluster_id()"
   ]
  },
  {
   "cell_type": "code",
   "execution_count": null,
   "metadata": {
    "collapsed": false
   },
   "outputs": [],
   "source": [
    "SEED_CLUSTER_ID = result_article.cluster_id\n",
    "SEED_CLUSTER_ID"
   ]
  },
  {
   "cell_type": "code",
   "execution_count": null,
   "metadata": {
    "collapsed": false
   },
   "outputs": [],
   "source": [
    "with open('../results/{}.csv'.format(SEED_ARTICLE.attrs['cluster_id'][0]), 'w+') as f:\n",
    "    for page_url in range(num_search_pages):\n",
    "        r = requests.get(citations_url_generic.format(page_url * 10))\n",
    "        soup = BeautifulSoup(r.text)\n",
    "        citations_url_generic.format('0')\n",
    "        gs_r = soup.find_all(\"div\", class_=\"gs_r\")\n",
    "        # print(len(gs_r))\n",
    "        for citing_article_soup in gs_r:\n",
    "            result_article = DanGoogleScholarArticle(soup=citing_article_soup)\n",
    "            result_article.parse_title()\n",
    "            # print(result_article.title)\n",
    "            result_article.parse_cluster_id()\n",
    "            seed_cluster_id = result_article.cluster_id\n",
    "            # print(seed_cluster_id)\n",
    "            str_to_write = '{}),{}\\n'.format(result_article.cluster_id, SEED_CLUSTER_ID)\n",
    "            f.write(str_to_write)\n",
    "        sleep_time = random() * randint(10, 50)\n",
    "        print(sleep_time)\n",
    "        sleep(sleep_time)"
   ]
  },
  {
   "cell_type": "code",
   "execution_count": null,
   "metadata": {
    "collapsed": true
   },
   "outputs": [],
   "source": []
  }
 ],
 "metadata": {
  "kernelspec": {
   "display_name": "Python 3",
   "language": "python",
   "name": "python3"
  },
  "language_info": {
   "codemirror_mode": {
    "name": "ipython",
    "version": 3
   },
   "file_extension": ".py",
   "mimetype": "text/x-python",
   "name": "python",
   "nbconvert_exporter": "python",
   "pygments_lexer": "ipython3",
   "version": "3.4.3"
  }
 },
 "nbformat": 4,
 "nbformat_minor": 0
}
